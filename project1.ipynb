{
 "cells": [
  {
   "attachments": {},
   "cell_type": "markdown",
   "metadata": {
    "id": "rOyOkJJA7Foy"
   },
   "source": [
    "# Machine Learning in Python - Group Project 1\n",
    "\n",
    "**Due Friday, March 10th by 16.00 pm.**\n",
    "\n",
    "Elliot Leishman etc."
   ]
  },
  {
   "cell_type": "markdown",
   "metadata": {
    "id": "PqPpPRE37Fo0"
   },
   "source": [
    "## General Setup"
   ]
  },
  {
   "cell_type": "code",
   "execution_count": 1,
   "metadata": {
    "id": "jb4qh-pi7Fo1"
   },
   "outputs": [],
   "source": [
    "# Add any additional libraries or submodules below\n",
    "\n",
    "# Data libraries\n",
    "import numpy as np\n",
    "import pandas as pd\n",
    "\n",
    "# Plotting libraries\n",
    "import matplotlib.pyplot as plt\n",
    "import seaborn as sns\n",
    "\n",
    "# Plotting defaults\n",
    "plt.rcParams['figure.figsize'] = (8,5)\n",
    "plt.rcParams['figure.dpi'] = 80\n",
    "\n",
    "# sklearn modules that are necessary\n",
    "import sklearn"
   ]
  },
  {
   "cell_type": "code",
   "execution_count": 2,
   "metadata": {
    "id": "hjs5785u7Fo1"
   },
   "outputs": [],
   "source": [
    "# Load data\n",
    "data = pd.read_csv(\"the_office.csv\")"
   ]
  },
  {
   "cell_type": "markdown",
   "metadata": {},
   "source": [
    "After making sure that all the necessary libraries or submodules are uploaded here, please follow the given skeleton to create your project report. \n",
    "- Your completed assignment must follow this structure \n",
    "- You should not add or remove any of these sections, if you feel it is necessary you may add extra subsections within each (such as *2.1. Encoding*). \n",
    "\n",
    "**Do not forget to remove the instructions for each section in the final document.**"
   ]
  },
  {
   "cell_type": "markdown",
   "metadata": {
    "id": "K314dGEL7Fo1"
   },
   "source": [
    "## 1. Introduction\n",
    "\n",
    "*This section should include a brief introduction to the task and the data (assume this is a report you are delivering to a client).* \n",
    "\n",
    "- If you use any additional data sources, you should introduce them here and discuss why they were included.\n",
    "\n",
    "- Briefly outline the approaches being used and the conclusions that you are able to draw."
   ]
  },
  {
   "cell_type": "markdown",
   "metadata": {
    "id": "3P6Vdzbo7Fo2"
   },
   "source": [
    "## 2. Exploratory Data Analysis and Feature Engineering"
   ]
  },
  {
   "cell_type": "markdown",
   "metadata": {
    "id": "Arg9_dYE7Fo2"
   },
   "source": [
    "*Include a detailed discussion of the data with a particular emphasis on the features of the data that are relevant for the subsequent modeling.* \n",
    "\n",
    "- Including visualizations of the data is strongly encouraged - all code and plots must also be described in the write up. \n",
    "- Think carefully about whether each plot needs to be included in your final draft - your report should include figures but they should be as focused and impactful as possible.\n",
    "\n",
    "*Additionally, this section should also implement and describe any preprocessing / feature engineering of the data.*\n",
    "\n",
    "- Specifically, this should be any code that you use to generate new columns in the data frame `d`. All of this processing is explicitly meant to occur before we split the data in to training and testing subsets. \n",
    "- Processing that will be performed as part of an sklearn pipeline can be mentioned here but should be implemented in the following section.*\n",
    "\n",
    "**All code and figures should be accompanied by text that provides an overview / context to what is being done or presented.**"
   ]
  },
  {
   "cell_type": "code",
   "execution_count": 12,
   "metadata": {},
   "outputs": [
    {
     "name": "stdout",
     "output_type": "stream",
     "text": [
      "   season  episode   episode_name         director  \\\n",
      "0       1        1          Pilot       Ken Kwapis   \n",
      "1       1        2  Diversity Day       Ken Kwapis   \n",
      "2       1        3    Health Care  Ken Whittingham   \n",
      "3       1        4   The Alliance     Bryan Gordon   \n",
      "4       1        5     Basketball     Greg Daniels   \n",
      "\n",
      "                                        writer  imdb_rating  total_votes  \\\n",
      "0  Ricky Gervais;Stephen Merchant;Greg Daniels          7.6         3706   \n",
      "1                                   B.J. Novak          8.3         3566   \n",
      "2                             Paul Lieberstein          7.9         2983   \n",
      "3                                Michael Schur          8.1         2886   \n",
      "4                                 Greg Daniels          8.4         3179   \n",
      "\n",
      "     air_date  n_lines  n_directions  n_words  n_speak_char  \\\n",
      "0  2005-03-24      229            27     2757            15   \n",
      "1  2005-03-29      203            20     2808            12   \n",
      "2  2005-04-05      244            21     2769            13   \n",
      "3  2005-04-12      243            24     2939            14   \n",
      "4  2005-04-19      230            49     2437            18   \n",
      "\n",
      "                                          main_chars  \n",
      "0  Angela;Dwight;Jim;Kevin;Michael;Oscar;Pam;Phyl...  \n",
      "1  Angela;Dwight;Jim;Kelly;Kevin;Michael;Oscar;Pa...  \n",
      "2  Angela;Dwight;Jim;Kevin;Meredith;Michael;Oscar...  \n",
      "3  Angela;Dwight;Jim;Kevin;Meredith;Michael;Oscar...  \n",
      "4  Angela;Darryl;Dwight;Jim;Kevin;Michael;Oscar;P...  \n",
      "<class 'pandas.core.frame.DataFrame'>\n",
      "RangeIndex: 186 entries, 0 to 185\n",
      "Data columns (total 13 columns):\n",
      " #   Column        Non-Null Count  Dtype  \n",
      "---  ------        --------------  -----  \n",
      " 0   season        186 non-null    int64  \n",
      " 1   episode       186 non-null    int64  \n",
      " 2   episode_name  186 non-null    object \n",
      " 3   director      186 non-null    object \n",
      " 4   writer        186 non-null    object \n",
      " 5   imdb_rating   186 non-null    float64\n",
      " 6   total_votes   186 non-null    int64  \n",
      " 7   air_date      186 non-null    object \n",
      " 8   n_lines       186 non-null    int64  \n",
      " 9   n_directions  186 non-null    int64  \n",
      " 10  n_words       186 non-null    int64  \n",
      " 11  n_speak_char  186 non-null    int64  \n",
      " 12  main_chars    186 non-null    object \n",
      "dtypes: float64(1), int64(7), object(5)\n",
      "memory usage: 19.0+ KB\n"
     ]
    },
    {
     "data": {
      "text/html": [
       "<div>\n",
       "<style scoped>\n",
       "    .dataframe tbody tr th:only-of-type {\n",
       "        vertical-align: middle;\n",
       "    }\n",
       "\n",
       "    .dataframe tbody tr th {\n",
       "        vertical-align: top;\n",
       "    }\n",
       "\n",
       "    .dataframe thead th {\n",
       "        text-align: right;\n",
       "    }\n",
       "</style>\n",
       "<table border=\"1\" class=\"dataframe\">\n",
       "  <thead>\n",
       "    <tr style=\"text-align: right;\">\n",
       "      <th></th>\n",
       "      <th>season</th>\n",
       "      <th>episode</th>\n",
       "      <th>imdb_rating</th>\n",
       "      <th>total_votes</th>\n",
       "      <th>n_lines</th>\n",
       "      <th>n_directions</th>\n",
       "      <th>n_words</th>\n",
       "      <th>n_speak_char</th>\n",
       "    </tr>\n",
       "  </thead>\n",
       "  <tbody>\n",
       "    <tr>\n",
       "      <th>count</th>\n",
       "      <td>186.00</td>\n",
       "      <td>186.00</td>\n",
       "      <td>186.00</td>\n",
       "      <td>186.00</td>\n",
       "      <td>186.00</td>\n",
       "      <td>186.00</td>\n",
       "      <td>186.00</td>\n",
       "      <td>186.00</td>\n",
       "    </tr>\n",
       "    <tr>\n",
       "      <th>mean</th>\n",
       "      <td>5.46</td>\n",
       "      <td>12.48</td>\n",
       "      <td>8.25</td>\n",
       "      <td>2129.54</td>\n",
       "      <td>296.40</td>\n",
       "      <td>50.15</td>\n",
       "      <td>3053.51</td>\n",
       "      <td>20.69</td>\n",
       "    </tr>\n",
       "    <tr>\n",
       "      <th>std</th>\n",
       "      <td>2.40</td>\n",
       "      <td>7.23</td>\n",
       "      <td>0.54</td>\n",
       "      <td>790.79</td>\n",
       "      <td>82.00</td>\n",
       "      <td>23.94</td>\n",
       "      <td>799.27</td>\n",
       "      <td>5.09</td>\n",
       "    </tr>\n",
       "    <tr>\n",
       "      <th>min</th>\n",
       "      <td>1.00</td>\n",
       "      <td>1.00</td>\n",
       "      <td>6.70</td>\n",
       "      <td>1393.00</td>\n",
       "      <td>131.00</td>\n",
       "      <td>11.00</td>\n",
       "      <td>1098.00</td>\n",
       "      <td>12.00</td>\n",
       "    </tr>\n",
       "    <tr>\n",
       "      <th>25%</th>\n",
       "      <td>3.00</td>\n",
       "      <td>6.00</td>\n",
       "      <td>7.90</td>\n",
       "      <td>1628.50</td>\n",
       "      <td>255.25</td>\n",
       "      <td>34.00</td>\n",
       "      <td>2670.25</td>\n",
       "      <td>17.00</td>\n",
       "    </tr>\n",
       "    <tr>\n",
       "      <th>50%</th>\n",
       "      <td>6.00</td>\n",
       "      <td>12.00</td>\n",
       "      <td>8.20</td>\n",
       "      <td>1954.00</td>\n",
       "      <td>281.00</td>\n",
       "      <td>46.00</td>\n",
       "      <td>2872.50</td>\n",
       "      <td>20.00</td>\n",
       "    </tr>\n",
       "    <tr>\n",
       "      <th>75%</th>\n",
       "      <td>7.75</td>\n",
       "      <td>18.00</td>\n",
       "      <td>8.60</td>\n",
       "      <td>2385.00</td>\n",
       "      <td>314.50</td>\n",
       "      <td>60.00</td>\n",
       "      <td>3141.00</td>\n",
       "      <td>23.00</td>\n",
       "    </tr>\n",
       "    <tr>\n",
       "      <th>max</th>\n",
       "      <td>9.00</td>\n",
       "      <td>28.00</td>\n",
       "      <td>9.70</td>\n",
       "      <td>7934.00</td>\n",
       "      <td>625.00</td>\n",
       "      <td>166.00</td>\n",
       "      <td>6076.00</td>\n",
       "      <td>54.00</td>\n",
       "    </tr>\n",
       "  </tbody>\n",
       "</table>\n",
       "</div>"
      ],
      "text/plain": [
       "       season  episode  imdb_rating  total_votes  n_lines  n_directions  \\\n",
       "count  186.00   186.00       186.00       186.00   186.00        186.00   \n",
       "mean     5.46    12.48         8.25      2129.54   296.40         50.15   \n",
       "std      2.40     7.23         0.54       790.79    82.00         23.94   \n",
       "min      1.00     1.00         6.70      1393.00   131.00         11.00   \n",
       "25%      3.00     6.00         7.90      1628.50   255.25         34.00   \n",
       "50%      6.00    12.00         8.20      1954.00   281.00         46.00   \n",
       "75%      7.75    18.00         8.60      2385.00   314.50         60.00   \n",
       "max      9.00    28.00         9.70      7934.00   625.00        166.00   \n",
       "\n",
       "       n_words  n_speak_char  \n",
       "count   186.00        186.00  \n",
       "mean   3053.51         20.69  \n",
       "std     799.27          5.09  \n",
       "min    1098.00         12.00  \n",
       "25%    2670.25         17.00  \n",
       "50%    2872.50         20.00  \n",
       "75%    3141.00         23.00  \n",
       "max    6076.00         54.00  "
      ]
     },
     "execution_count": 12,
     "metadata": {},
     "output_type": "execute_result"
    }
   ],
   "source": [
    "print(data.head())\n",
    "data.info()\n",
    "data.describe().round(2)\n"
   ]
  },
  {
   "cell_type": "markdown",
   "metadata": {
    "id": "Ad7J-Yw67Fo3"
   },
   "source": [
    "## 3. Model Fitting and Tuning"
   ]
  },
  {
   "cell_type": "markdown",
   "metadata": {
    "id": "EXdvOaZs7Fo3"
   },
   "source": [
    "*In this section you should detail your choice of model and describe the process used to refine and fit that model.*\n",
    "\n",
    "- You are strongly encouraged to explore many different modeling methods (e.g. linear regression, regression trees, lasso, etc.) but you should not include a detailed narrative of all of these attempts. \n",
    "- At most this section should mention the methods explored and why they were rejected - most of your effort should go into describing the model you are using and your process for tuning and validatin it.\n",
    "\n",
    "*For example if you considered a linear regression model, a classification tree, and a lasso model and ultimately settled on the linear regression approach then you should mention that other two approaches were tried but do not include any of the code or any in depth discussion of these models beyond why they were rejected. This section should then detail is the development of the linear regression model in terms of features used, interactions considered, and any additional tuning and validation which ultimately led to your final model.* \n",
    "\n",
    "**This section should also include the full implementation of your final model, including all necessary validation. As with figures, any included code must also be addressed in the text of the document.**"
   ]
  },
  {
   "cell_type": "markdown",
   "metadata": {
    "id": "edQVULLU7Fo3"
   },
   "source": [
    "## 4. Discussion and Conclusions\n"
   ]
  },
  {
   "cell_type": "markdown",
   "metadata": {
    "id": "Fi0yKPrQ7Fo4"
   },
   "source": [
    "*In this section you should provide a general overview of **your final model**, its **performance**, and **reliability**.* \n",
    "\n",
    "- You should discuss what the implications of your model are in terms of the included features, predictive performance, and anything else you think is relevant.\n",
    "\n",
    "- This should be written with a target audience of a NBC Universal executive who is with the show and university level mathematics but not necessarily someone who has taken a postgraduate statistical modeling course. \n",
    "\n",
    "- Your goal should be to convince this audience that your model is both accurate and useful.\n",
    "\n",
    "- Finally, you should include concrete recommendations on what NBC Universal should do to make their reunion episode a popular as possible.\n",
    "\n",
    "**Keep in mind that a negative result, i.e. a model that does not work well predictively, but that is well explained and justified in terms of why it failed will likely receive higher marks than a model with strong predictive performance but with poor or incorrect explanations / justifications.**"
   ]
  },
  {
   "cell_type": "markdown",
   "metadata": {},
   "source": [
    "## 5. References\n",
    "\n",
    "*In this section, you should present a list of external sources (except the course materials) that you used during the project, if any*\n",
    "\n",
    "- Additional data sources can be cited here, in addition to related python documentations, any other webpage sources that you benefited from"
   ]
  }
 ],
 "metadata": {
  "colab": {
   "collapsed_sections": [],
   "name": "project1.ipynb",
   "provenance": []
  },
  "kernelspec": {
   "display_name": "base",
   "language": "python",
   "name": "python3"
  },
  "language_info": {
   "codemirror_mode": {
    "name": "ipython",
    "version": 3
   },
   "file_extension": ".py",
   "mimetype": "text/x-python",
   "name": "python",
   "nbconvert_exporter": "python",
   "pygments_lexer": "ipython3",
   "version": "3.9.12"
  },
  "vscode": {
   "interpreter": {
    "hash": "af8704e19de21468eae1093621a2c8b6a787155c45e4386acc9bc35f30ec814d"
   }
  }
 },
 "nbformat": 4,
 "nbformat_minor": 1
}
